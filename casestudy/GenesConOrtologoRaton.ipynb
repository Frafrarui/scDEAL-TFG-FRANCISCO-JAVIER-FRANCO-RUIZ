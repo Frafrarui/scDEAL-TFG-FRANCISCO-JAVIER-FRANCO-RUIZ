{
 "cells": [
  {
   "cell_type": "code",
   "execution_count": 2,
   "id": "378d306b-209d-4483-a342-7b6707c65f49",
   "metadata": {},
   "outputs": [],
   "source": [
    "import pandas as pd"
   ]
  },
  {
   "cell_type": "code",
   "execution_count": 3,
   "id": "7c6ef276-d314-44cd-b669-5816a4d9d562",
   "metadata": {},
   "outputs": [],
   "source": [
    "bulk_datos=\"/home/franciscojavier/Escritorio/TFG/scDEAL/data/ALL_expression.csv\"\n",
    "Bulk= pd.read_csv(bulk_datos, index_col=0)"
   ]
  },
  {
   "cell_type": "code",
   "execution_count": 4,
   "id": "00162e49-16aa-42c1-8918-cb2ba540ab8b",
   "metadata": {},
   "outputs": [
    {
     "name": "stdout",
     "output_type": "stream",
     "text": [
      "El archivo tiene 1280 filas y 15962 columnas.\n"
     ]
    }
   ],
   "source": [
    "print(f\"El archivo tiene {Bulk.shape[0]} filas y {Bulk.shape[1]} columnas.\")\n"
   ]
  },
  {
   "cell_type": "code",
   "execution_count": 5,
   "id": "80e4534a-9948-4dfe-bdf8-c15ffdc547c6",
   "metadata": {},
   "outputs": [
    {
     "name": "stdout",
     "output_type": "stream",
     "text": [
      "Número de genes: 15962\n",
      "Número de muestras: 1280\n",
      "Primeros 5 genes: ['ST3GAL2', 'NOTCH2', 'GRPEL1', 'SHC2', 'MAGEA8']\n"
     ]
    }
   ],
   "source": [
    "print(f\"Número de genes: {Bulk.shape[1]}\")\n",
    "print(f\"Número de muestras: {Bulk.shape[0]}\")\n",
    "print(\"Primeros 5 genes:\", Bulk.columns[:5].tolist())"
   ]
  },
  {
   "cell_type": "markdown",
   "id": "245deff6-3f94-4432-861b-70f90a002305",
   "metadata": {},
   "source": [
    "# CALCULAMOS VARIANZA"
   ]
  },
  {
   "cell_type": "code",
   "execution_count": 6,
   "id": "b95d3636-7e76-44af-b1d5-f442081cb2ad",
   "metadata": {},
   "outputs": [
    {
     "name": "stdout",
     "output_type": "stream",
     "text": [
      "ST3GAL2    0.892848\n",
      "NOTCH2     0.813878\n",
      "GRPEL1     2.395445\n",
      "SHC2       3.767519\n",
      "MAGEA8     2.661780\n",
      "             ...   \n",
      "RNF13      4.454409\n",
      "LAMC1      2.325935\n",
      "PITX3      2.773513\n",
      "SNX24      1.557141\n",
      "IL17RE     1.291969\n",
      "Length: 15962, dtype: float64\n"
     ]
    }
   ],
   "source": [
    "varianzas = Bulk.var(axis=0)  # varianza por columna (gen)\n",
    "print(varianzas)"
   ]
  },
  {
   "cell_type": "code",
   "execution_count": 7,
   "id": "8e4fca0f-c1f5-4746-b802-e001df14d44f",
   "metadata": {},
   "outputs": [],
   "source": [
    "top_20_porcentaje = int(len(varianzas) * 0.2) #Filtramos el top 20\n",
    "genes_top = varianzas.sort_values(ascending=False).head(top_20_porcentaje).index\n",
    "df_top_genes = Bulk[genes_top]"
   ]
  },
  {
   "cell_type": "code",
   "execution_count": 8,
   "id": "d9827e81-59f6-4383-b2f6-9f15227fffe0",
   "metadata": {},
   "outputs": [
    {
     "name": "stdout",
     "output_type": "stream",
     "text": [
      "Genes seleccionados: 3192 de 15962 originales\n"
     ]
    }
   ],
   "source": [
    "print(f\"Genes seleccionados: {df_top_genes.shape[1]} de {Bulk.shape[1]} originales\")\n"
   ]
  },
  {
   "cell_type": "markdown",
   "id": "b6f344ab-003b-4576-89f9-1433fa038d41",
   "metadata": {},
   "source": [
    "# MAPEAMOS A RATON"
   ]
  },
  {
   "cell_type": "code",
   "execution_count": 10,
   "id": "962793b2-9b53-4d3d-9ba1-49297b37eee7",
   "metadata": {},
   "outputs": [],
   "source": [
    "#pip install mygene\n",
    "import mygene\n",
    "# Lista de genes humanos que quieres mapear \n",
    "genes_humanos = list(df_top_genes.columns)  # por ejemplo si tu DataFrame ya está filtrado"
   ]
  },
  {
   "cell_type": "code",
   "execution_count": 11,
   "id": "66a943ac-a0d8-4f49-be0b-37b28b11701a",
   "metadata": {},
   "outputs": [
    {
     "name": "stderr",
     "output_type": "stream",
     "text": [
      "Input sequence provided is already in string format. No operation performed\n",
      "Input sequence provided is already in string format. No operation performed\n",
      "5 input query terms found dup hits:\t[('EPPK1', 2), ('ST6GALNAC2', 2), ('MAGEF1', 2), ('NNT', 2), ('LCN15', 2)]\n",
      "305 input query terms found no hit:\t['RPS4Y1', 'S100P', 'C19ORF33', 'CLEC2B', 'HNRNPA1L2', 'HLA-DPA1', 'HLA-DRA', 'AKR1C1', 'AKR1C3', 'A\n"
     ]
    }
   ],
   "source": [
    "#Inicializamos\n",
    "mg = mygene.MyGeneInfo()\n",
    "# Buscar ortólogos en ratón\n",
    "resultados = mg.querymany(genes_humanos, scopes='symbol', fields='ensembl.gene', species='mouse')\n"
   ]
  },
  {
   "cell_type": "code",
   "execution_count": 12,
   "id": "2e0a680f-8b3c-4c4e-b5b5-4d98289ec9a8",
   "metadata": {},
   "outputs": [],
   "source": [
    "mapeo = {}\n",
    "for r in resultados: #MApeamos solo aquellos q tiene 1 solo homologo en raton , los demas los descartamos que son los de la celda de arriba\n",
    "    if 'notfound' not in r and 'ensembl' in r:\n",
    "        # Puede haber uno o varios resultados (lista o dict)\n",
    "        if isinstance(r['ensembl'], list):\n",
    "            mapeo[r['query']] = r['ensembl'][0]['gene']\n",
    "        else:\n",
    "            mapeo[r['query']] = r['ensembl']['gene']"
   ]
  },
  {
   "cell_type": "code",
   "execution_count": 13,
   "id": "bb7d0cce-ec9b-4f5b-8412-e989428cd586",
   "metadata": {},
   "outputs": [
    {
     "name": "stdout",
     "output_type": "stream",
     "text": [
      "Genes mapeados: 2883 de 3192\n"
     ]
    }
   ],
   "source": [
    "print(f\"Genes mapeados: {len(mapeo)} de {len(genes_humanos)}\")"
   ]
  },
  {
   "cell_type": "code",
   "execution_count": 14,
   "id": "be33661a-e76e-4611-8c8a-519523959e33",
   "metadata": {},
   "outputs": [
    {
     "name": "stdout",
     "output_type": "stream",
     "text": [
      "KRT19  →  ENSMUSG00000020911\n",
      "VIM  →  ENSMUSG00000026728\n",
      "EEF1A1  →  ENSMUSG00000037742\n",
      "RPL18A  →  ENSMUSG00000045128\n",
      "TACSTD2  →  ENSMUSG00000051397\n",
      "RPS18  →  ENSMUSG00000008668\n",
      "BASP1  →  ENSMUSG00000045763\n",
      "RPS19  →  ENSMUSG00000040952\n",
      "SRGN  →  ENSMUSG00000020077\n",
      "UCHL1  →  ENSMUSG00000029223\n"
     ]
    }
   ],
   "source": [
    "for humano, raton in list(mapeo.items())[:10]:\n",
    "    print(f\"{humano}  →  {raton}\")"
   ]
  },
  {
   "cell_type": "code",
   "execution_count": 21,
   "id": "d1c07278-69fe-4dab-98d4-f25090885cda",
   "metadata": {},
   "outputs": [
    {
     "data": {
      "text/plain": [
       "2883"
      ]
     },
     "execution_count": 21,
     "metadata": {},
     "output_type": "execute_result"
    }
   ],
   "source": [
    "genes_raton_bulk = list(mapeo.values())\n",
    "len(genes_raton_bulk)\n"
   ]
  },
  {
   "cell_type": "code",
   "execution_count": 22,
   "id": "0c02a326-e6a2-42e1-9e60-58c6d8804485",
   "metadata": {},
   "outputs": [],
   "source": [
    "mapeo_inverso = {v: k for k, v in mapeo.items()}  # ENSMUSG → gen humano\n"
   ]
  },
  {
   "cell_type": "code",
   "execution_count": 23,
   "id": "02c8e534-7c2e-47e2-a473-45f4a088942d",
   "metadata": {},
   "outputs": [],
   "source": [
    "genes_humanos_ordenados = [mapeo_inverso[ensm] for ensm in genes_raton_bulk if ensm in mapeo_inverso]"
   ]
  },
  {
   "cell_type": "code",
   "execution_count": 24,
   "id": "3b57813f-eecf-4a77-bd60-31ad3151b2e5",
   "metadata": {},
   "outputs": [],
   "source": [
    "df_bulk_humano_ordenado = Bulk[genes_humanos_ordenados]\n"
   ]
  },
  {
   "cell_type": "code",
   "execution_count": 25,
   "id": "9b7f3ce9-bb58-4b12-b3a6-016ec359ab9e",
   "metadata": {},
   "outputs": [
    {
     "data": {
      "text/html": [
       "<div>\n",
       "<style scoped>\n",
       "    .dataframe tbody tr th:only-of-type {\n",
       "        vertical-align: middle;\n",
       "    }\n",
       "\n",
       "    .dataframe tbody tr th {\n",
       "        vertical-align: top;\n",
       "    }\n",
       "\n",
       "    .dataframe thead th {\n",
       "        text-align: right;\n",
       "    }\n",
       "</style>\n",
       "<table border=\"1\" class=\"dataframe\">\n",
       "  <thead>\n",
       "    <tr style=\"text-align: right;\">\n",
       "      <th></th>\n",
       "      <th>KRT19</th>\n",
       "      <th>VIM</th>\n",
       "      <th>EEF1A1</th>\n",
       "      <th>RPL18A</th>\n",
       "      <th>TACSTD2</th>\n",
       "      <th>RPS18</th>\n",
       "      <th>BASP1</th>\n",
       "      <th>RPS19</th>\n",
       "      <th>SRGN</th>\n",
       "      <th>UCHL1</th>\n",
       "      <th>...</th>\n",
       "      <th>IL15</th>\n",
       "      <th>GALNT7</th>\n",
       "      <th>IGFL3</th>\n",
       "      <th>ANGPT1</th>\n",
       "      <th>RRP1B</th>\n",
       "      <th>IFNGR1</th>\n",
       "      <th>TCEAL5</th>\n",
       "      <th>DUSP11</th>\n",
       "      <th>GNA11</th>\n",
       "      <th>MFSD6</th>\n",
       "    </tr>\n",
       "  </thead>\n",
       "  <tbody>\n",
       "    <tr>\n",
       "      <th>DATA.683665</th>\n",
       "      <td>3.405941</td>\n",
       "      <td>12.085272</td>\n",
       "      <td>4.922896</td>\n",
       "      <td>3.062681</td>\n",
       "      <td>3.496972</td>\n",
       "      <td>4.855941</td>\n",
       "      <td>5.697826</td>\n",
       "      <td>4.038713</td>\n",
       "      <td>11.725963</td>\n",
       "      <td>5.737451</td>\n",
       "      <td>...</td>\n",
       "      <td>4.384003</td>\n",
       "      <td>7.540249</td>\n",
       "      <td>3.394853</td>\n",
       "      <td>3.002283</td>\n",
       "      <td>8.001636</td>\n",
       "      <td>7.831898</td>\n",
       "      <td>3.023507</td>\n",
       "      <td>7.876978</td>\n",
       "      <td>4.013298</td>\n",
       "      <td>7.270762</td>\n",
       "    </tr>\n",
       "    <tr>\n",
       "      <th>DATA.683667</th>\n",
       "      <td>4.226230</td>\n",
       "      <td>11.661481</td>\n",
       "      <td>6.533475</td>\n",
       "      <td>3.113093</td>\n",
       "      <td>3.027207</td>\n",
       "      <td>4.680126</td>\n",
       "      <td>5.011485</td>\n",
       "      <td>4.045782</td>\n",
       "      <td>3.211200</td>\n",
       "      <td>9.158466</td>\n",
       "      <td>...</td>\n",
       "      <td>3.449861</td>\n",
       "      <td>7.249157</td>\n",
       "      <td>3.379538</td>\n",
       "      <td>3.001898</td>\n",
       "      <td>8.308363</td>\n",
       "      <td>7.443246</td>\n",
       "      <td>3.019110</td>\n",
       "      <td>7.700416</td>\n",
       "      <td>8.309896</td>\n",
       "      <td>4.358078</td>\n",
       "    </tr>\n",
       "    <tr>\n",
       "      <th>DATA.684052</th>\n",
       "      <td>4.032691</td>\n",
       "      <td>12.671484</td>\n",
       "      <td>5.551361</td>\n",
       "      <td>2.892388</td>\n",
       "      <td>2.832211</td>\n",
       "      <td>3.884602</td>\n",
       "      <td>11.453684</td>\n",
       "      <td>3.944376</td>\n",
       "      <td>2.873959</td>\n",
       "      <td>10.270623</td>\n",
       "      <td>...</td>\n",
       "      <td>3.000656</td>\n",
       "      <td>8.260060</td>\n",
       "      <td>3.307964</td>\n",
       "      <td>3.387063</td>\n",
       "      <td>7.957953</td>\n",
       "      <td>6.905754</td>\n",
       "      <td>3.405001</td>\n",
       "      <td>7.464873</td>\n",
       "      <td>8.508063</td>\n",
       "      <td>4.455841</td>\n",
       "    </tr>\n",
       "    <tr>\n",
       "      <th>DATA.684057</th>\n",
       "      <td>3.091820</td>\n",
       "      <td>10.667924</td>\n",
       "      <td>5.277746</td>\n",
       "      <td>2.932124</td>\n",
       "      <td>2.932878</td>\n",
       "      <td>4.880253</td>\n",
       "      <td>9.359950</td>\n",
       "      <td>3.950865</td>\n",
       "      <td>2.909001</td>\n",
       "      <td>10.074418</td>\n",
       "      <td>...</td>\n",
       "      <td>3.783932</td>\n",
       "      <td>6.288173</td>\n",
       "      <td>3.390363</td>\n",
       "      <td>2.994032</td>\n",
       "      <td>8.219939</td>\n",
       "      <td>8.016595</td>\n",
       "      <td>4.280432</td>\n",
       "      <td>7.801002</td>\n",
       "      <td>7.849750</td>\n",
       "      <td>3.848845</td>\n",
       "    </tr>\n",
       "    <tr>\n",
       "      <th>DATA.684059</th>\n",
       "      <td>3.492342</td>\n",
       "      <td>12.870585</td>\n",
       "      <td>5.819835</td>\n",
       "      <td>2.982949</td>\n",
       "      <td>2.923305</td>\n",
       "      <td>3.888214</td>\n",
       "      <td>10.924775</td>\n",
       "      <td>3.717019</td>\n",
       "      <td>2.676016</td>\n",
       "      <td>11.074848</td>\n",
       "      <td>...</td>\n",
       "      <td>2.849301</td>\n",
       "      <td>7.708803</td>\n",
       "      <td>3.518197</td>\n",
       "      <td>3.736578</td>\n",
       "      <td>7.958470</td>\n",
       "      <td>8.002485</td>\n",
       "      <td>3.412617</td>\n",
       "      <td>6.972215</td>\n",
       "      <td>8.140381</td>\n",
       "      <td>4.290012</td>\n",
       "    </tr>\n",
       "  </tbody>\n",
       "</table>\n",
       "<p>5 rows × 2883 columns</p>\n",
       "</div>"
      ],
      "text/plain": [
       "                KRT19        VIM    EEF1A1    RPL18A   TACSTD2     RPS18  \\\n",
       "DATA.683665  3.405941  12.085272  4.922896  3.062681  3.496972  4.855941   \n",
       "DATA.683667  4.226230  11.661481  6.533475  3.113093  3.027207  4.680126   \n",
       "DATA.684052  4.032691  12.671484  5.551361  2.892388  2.832211  3.884602   \n",
       "DATA.684057  3.091820  10.667924  5.277746  2.932124  2.932878  4.880253   \n",
       "DATA.684059  3.492342  12.870585  5.819835  2.982949  2.923305  3.888214   \n",
       "\n",
       "                 BASP1     RPS19       SRGN      UCHL1  ...      IL15  \\\n",
       "DATA.683665   5.697826  4.038713  11.725963   5.737451  ...  4.384003   \n",
       "DATA.683667   5.011485  4.045782   3.211200   9.158466  ...  3.449861   \n",
       "DATA.684052  11.453684  3.944376   2.873959  10.270623  ...  3.000656   \n",
       "DATA.684057   9.359950  3.950865   2.909001  10.074418  ...  3.783932   \n",
       "DATA.684059  10.924775  3.717019   2.676016  11.074848  ...  2.849301   \n",
       "\n",
       "               GALNT7     IGFL3    ANGPT1     RRP1B    IFNGR1    TCEAL5  \\\n",
       "DATA.683665  7.540249  3.394853  3.002283  8.001636  7.831898  3.023507   \n",
       "DATA.683667  7.249157  3.379538  3.001898  8.308363  7.443246  3.019110   \n",
       "DATA.684052  8.260060  3.307964  3.387063  7.957953  6.905754  3.405001   \n",
       "DATA.684057  6.288173  3.390363  2.994032  8.219939  8.016595  4.280432   \n",
       "DATA.684059  7.708803  3.518197  3.736578  7.958470  8.002485  3.412617   \n",
       "\n",
       "               DUSP11     GNA11     MFSD6  \n",
       "DATA.683665  7.876978  4.013298  7.270762  \n",
       "DATA.683667  7.700416  8.309896  4.358078  \n",
       "DATA.684052  7.464873  8.508063  4.455841  \n",
       "DATA.684057  7.801002  7.849750  3.848845  \n",
       "DATA.684059  6.972215  8.140381  4.290012  \n",
       "\n",
       "[5 rows x 2883 columns]"
      ]
     },
     "execution_count": 25,
     "metadata": {},
     "output_type": "execute_result"
    }
   ],
   "source": [
    "df_bulk_humano_ordenado.head()"
   ]
  },
  {
   "cell_type": "code",
   "execution_count": 26,
   "id": "0de34073-1f47-4a18-9ac6-c6240dde6254",
   "metadata": {},
   "outputs": [],
   "source": [
    "df_bulk_humano_ordenado.to_csv(\"bulk_2883_humano.csv\")"
   ]
  },
  {
   "cell_type": "markdown",
   "id": "4466f72c-cc41-4bc2-87cd-694c13034760",
   "metadata": {},
   "source": [
    "# RESULTADOS"
   ]
  },
  {
   "cell_type": "code",
   "execution_count": 27,
   "id": "157b540c-3902-4ae7-8eb6-af12e2b9d66e",
   "metadata": {},
   "outputs": [
    {
     "name": "stdout",
     "output_type": "stream",
     "text": [
      "WARNING: Your filename has more than two extensions: ['.BET', '.762_bottle_512_edim_256,128_pdim_128,64_model_DAEIntento3_dropout_0', '.1_gene_F_lr_0', '.5_mod_new_sam_upsampling', '.h5ad'].\n",
      "Only considering the two last: ['.5_mod_new_sam_upsampling', '.h5ad'].\n",
      "WARNING: Your filename has more than two extensions: ['.BET', '.762_bottle_512_edim_256,128_pdim_128,64_model_DAEIntento3_dropout_0', '.1_gene_F_lr_0', '.5_mod_new_sam_upsampling', '.h5ad'].\n",
      "Only considering the two last: ['.5_mod_new_sam_upsampling', '.h5ad'].\n"
     ]
    }
   ],
   "source": [
    "import scanpy as sc\n",
    "\n",
    "adata = sc.read(\"/home/franciscojavier/Escritorio/TFG/scDEAL/save/adata/GSE110894_integrate_data_GSE110894_drug_I.BET.762_bottle_512_edim_256,128_pdim_128,64_model_DAEIntento3_dropout_0.1_gene_F_lr_0.5_mod_new_sam_upsampling.h5ad\")  # reemplaza <para> por el sufijo real del modelo\n"
   ]
  },
  {
   "cell_type": "code",
   "execution_count": 28,
   "id": "8110ded1-442e-4818-b6b3-3a164327945f",
   "metadata": {},
   "outputs": [],
   "source": [
    "y_true = adata.obs['sensitive']             # Etiqueta verdadera\n",
    "y_pred = adata.obs['sens_label'].astype(int)  # Etiqueta predicha por el modelo"
   ]
  },
  {
   "cell_type": "code",
   "execution_count": 29,
   "id": "5245d196-ae7c-498e-a34d-bd903046bf61",
   "metadata": {},
   "outputs": [
    {
     "name": "stdout",
     "output_type": "stream",
     "text": [
      "Accuracy: 0.9436222692036645\n",
      "F1 Score: 0.9435148150391073\n",
      "Precision: 0.9450743402741256\n",
      "Recall: 0.9436222692036645\n",
      "              precision    recall  f1-score   support\n",
      "\n",
      "           0       0.97      0.91      0.94       685\n",
      "           1       0.92      0.97      0.95       734\n",
      "\n",
      "    accuracy                           0.94      1419\n",
      "   macro avg       0.95      0.94      0.94      1419\n",
      "weighted avg       0.95      0.94      0.94      1419\n",
      "\n"
     ]
    }
   ],
   "source": [
    "from sklearn.metrics import classification_report, accuracy_score, f1_score, precision_score, recall_score\n",
    "\n",
    "print(\"Accuracy:\", accuracy_score(y_true, y_pred))\n",
    "print(\"F1 Score:\", f1_score(y_true, y_pred, average='weighted'))\n",
    "print(\"Precision:\", precision_score(y_true, y_pred, average='weighted'))\n",
    "print(\"Recall:\", recall_score(y_true, y_pred, average='weighted'))\n",
    "\n",
    "# Reporte completo\n",
    "print(classification_report(y_true, y_pred))\n"
   ]
  },
  {
   "cell_type": "code",
   "execution_count": null,
   "id": "da40692b-5af6-4130-8c7d-9234aa0a1cee",
   "metadata": {},
   "outputs": [],
   "source": []
  }
 ],
 "metadata": {
  "kernelspec": {
   "display_name": "Python (scDEALenv)",
   "language": "python",
   "name": "scdealenv"
  },
  "language_info": {
   "codemirror_mode": {
    "name": "ipython",
    "version": 3
   },
   "file_extension": ".py",
   "mimetype": "text/x-python",
   "name": "python",
   "nbconvert_exporter": "python",
   "pygments_lexer": "ipython3",
   "version": "3.7.12"
  }
 },
 "nbformat": 4,
 "nbformat_minor": 5
}
