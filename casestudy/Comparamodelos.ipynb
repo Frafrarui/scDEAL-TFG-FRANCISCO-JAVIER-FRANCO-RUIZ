{
 "cells": [
  {
   "cell_type": "code",
   "execution_count": 1,
   "id": "27e6874b-ce72-4f7b-8298-f9009b3c7a5e",
   "metadata": {},
   "outputs": [
    {
     "name": "stdout",
     "output_type": "stream",
     "text": [
      "Collecting scanpy\n",
      "  Downloading scanpy-1.11.1-py3-none-any.whl.metadata (9.9 kB)\n",
      "Collecting anndata>=0.8 (from scanpy)\n",
      "  Downloading anndata-0.11.4-py3-none-any.whl.metadata (9.3 kB)\n",
      "Collecting h5py>=3.7 (from scanpy)\n",
      "  Downloading h5py-3.13.0-cp312-cp312-manylinux_2_17_x86_64.manylinux2014_x86_64.whl.metadata (2.5 kB)\n",
      "Collecting joblib (from scanpy)\n",
      "  Using cached joblib-1.4.2-py3-none-any.whl.metadata (5.4 kB)\n",
      "Collecting legacy-api-wrap>=1.4 (from scanpy)\n",
      "  Downloading legacy_api_wrap-1.4.1-py3-none-any.whl.metadata (2.1 kB)\n",
      "Collecting matplotlib>=3.7 (from scanpy)\n",
      "  Downloading matplotlib-3.10.1-cp312-cp312-manylinux_2_17_x86_64.manylinux2014_x86_64.whl.metadata (11 kB)\n",
      "Collecting natsort (from scanpy)\n",
      "  Using cached natsort-8.4.0-py3-none-any.whl.metadata (21 kB)\n",
      "Collecting networkx>=2.7 (from scanpy)\n",
      "  Downloading networkx-3.4.2-py3-none-any.whl.metadata (6.3 kB)\n",
      "Collecting numba>=0.57 (from scanpy)\n",
      "  Downloading numba-0.61.2-cp312-cp312-manylinux2014_x86_64.manylinux_2_17_x86_64.whl.metadata (2.8 kB)\n",
      "Collecting numpy>=1.24 (from scanpy)\n",
      "  Downloading numpy-2.2.5-cp312-cp312-manylinux_2_17_x86_64.manylinux2014_x86_64.whl.metadata (62 kB)\n",
      "Requirement already satisfied: packaging>=21.3 in /home/franciscojavier/miniconda3/lib/python3.12/site-packages (from scanpy) (24.2)\n",
      "Collecting pandas>=1.5 (from scanpy)\n",
      "  Downloading pandas-2.2.3-cp312-cp312-manylinux_2_17_x86_64.manylinux2014_x86_64.whl.metadata (89 kB)\n",
      "Collecting patsy!=1.0.0 (from scanpy)\n",
      "  Downloading patsy-1.0.1-py2.py3-none-any.whl.metadata (3.3 kB)\n",
      "Collecting pynndescent>=0.5 (from scanpy)\n",
      "  Using cached pynndescent-0.5.13-py3-none-any.whl.metadata (6.8 kB)\n",
      "Collecting scikit-learn<1.6.0,>=1.1 (from scanpy)\n",
      "  Downloading scikit_learn-1.5.2-cp312-cp312-manylinux_2_17_x86_64.manylinux2014_x86_64.whl.metadata (13 kB)\n",
      "Collecting scipy>=1.8 (from scanpy)\n",
      "  Downloading scipy-1.15.2-cp312-cp312-manylinux_2_17_x86_64.manylinux2014_x86_64.whl.metadata (61 kB)\n",
      "Collecting seaborn>=0.13 (from scanpy)\n",
      "  Using cached seaborn-0.13.2-py3-none-any.whl.metadata (5.4 kB)\n",
      "Collecting session-info2 (from scanpy)\n",
      "  Downloading session_info2-0.1.2-py3-none-any.whl.metadata (2.5 kB)\n",
      "Collecting statsmodels>=0.13 (from scanpy)\n",
      "  Downloading statsmodels-0.14.4-cp312-cp312-manylinux_2_17_x86_64.manylinux2014_x86_64.whl.metadata (9.2 kB)\n",
      "Requirement already satisfied: tqdm in /home/franciscojavier/miniconda3/lib/python3.12/site-packages (from scanpy) (4.67.1)\n",
      "Requirement already satisfied: typing-extensions in /home/franciscojavier/miniconda3/lib/python3.12/site-packages (from scanpy) (4.12.2)\n",
      "Collecting umap-learn!=0.5.0,>=0.5 (from scanpy)\n",
      "  Using cached umap_learn-0.5.7-py3-none-any.whl.metadata (21 kB)\n",
      "Collecting array-api-compat!=1.5,>1.4 (from anndata>=0.8->scanpy)\n",
      "  Downloading array_api_compat-1.11.2-py3-none-any.whl.metadata (1.9 kB)\n",
      "Collecting contourpy>=1.0.1 (from matplotlib>=3.7->scanpy)\n",
      "  Downloading contourpy-1.3.2-cp312-cp312-manylinux_2_17_x86_64.manylinux2014_x86_64.whl.metadata (5.5 kB)\n",
      "Collecting cycler>=0.10 (from matplotlib>=3.7->scanpy)\n",
      "  Using cached cycler-0.12.1-py3-none-any.whl.metadata (3.8 kB)\n",
      "Collecting fonttools>=4.22.0 (from matplotlib>=3.7->scanpy)\n",
      "  Downloading fonttools-4.57.0-cp312-cp312-manylinux_2_5_x86_64.manylinux1_x86_64.manylinux_2_17_x86_64.manylinux2014_x86_64.whl.metadata (102 kB)\n",
      "Collecting kiwisolver>=1.3.1 (from matplotlib>=3.7->scanpy)\n",
      "  Downloading kiwisolver-1.4.8-cp312-cp312-manylinux_2_17_x86_64.manylinux2014_x86_64.whl.metadata (6.2 kB)\n",
      "Requirement already satisfied: pillow>=8 in /home/franciscojavier/miniconda3/lib/python3.12/site-packages (from matplotlib>=3.7->scanpy) (11.1.0)\n",
      "Collecting pyparsing>=2.3.1 (from matplotlib>=3.7->scanpy)\n",
      "  Downloading pyparsing-3.2.3-py3-none-any.whl.metadata (5.0 kB)\n",
      "Requirement already satisfied: python-dateutil>=2.7 in /home/franciscojavier/miniconda3/lib/python3.12/site-packages (from matplotlib>=3.7->scanpy) (2.9.0.post0)\n",
      "Collecting llvmlite<0.45,>=0.44.0dev0 (from numba>=0.57->scanpy)\n",
      "  Downloading llvmlite-0.44.0-cp312-cp312-manylinux_2_17_x86_64.manylinux2014_x86_64.whl.metadata (5.0 kB)\n",
      "Requirement already satisfied: pytz>=2020.1 in /home/franciscojavier/miniconda3/lib/python3.12/site-packages (from pandas>=1.5->scanpy) (2024.1)\n",
      "Collecting tzdata>=2022.7 (from pandas>=1.5->scanpy)\n",
      "  Downloading tzdata-2025.2-py2.py3-none-any.whl.metadata (1.4 kB)\n",
      "Collecting threadpoolctl>=3.1.0 (from scikit-learn<1.6.0,>=1.1->scanpy)\n",
      "  Downloading threadpoolctl-3.6.0-py3-none-any.whl.metadata (13 kB)\n",
      "Requirement already satisfied: six>=1.5 in /home/franciscojavier/miniconda3/lib/python3.12/site-packages (from python-dateutil>=2.7->matplotlib>=3.7->scanpy) (1.16.0)\n",
      "Downloading scanpy-1.11.1-py3-none-any.whl (2.1 MB)\n",
      "\u001b[2K   \u001b[38;2;114;156;31m━━━━━━━━━━━━━━━━━━━━━━━━━━━━━━━━━━━━━━━━\u001b[0m \u001b[32m2.1/2.1 MB\u001b[0m \u001b[31m4.6 MB/s\u001b[0m eta \u001b[36m0:00:00\u001b[0m MB/s\u001b[0m eta \u001b[36m0:00:01\u001b[0m\n",
      "\u001b[?25hDownloading anndata-0.11.4-py3-none-any.whl (144 kB)\n",
      "Downloading h5py-3.13.0-cp312-cp312-manylinux_2_17_x86_64.manylinux2014_x86_64.whl (4.9 MB)\n",
      "\u001b[2K   \u001b[38;2;114;156;31m━━━━━━━━━━━━━━━━━━━━━━━━━━━━━━━━━━━━━━━━\u001b[0m \u001b[32m4.9/4.9 MB\u001b[0m \u001b[31m4.5 MB/s\u001b[0m eta \u001b[36m0:00:00\u001b[0m MB/s\u001b[0m eta \u001b[36m0:00:01\u001b[0m:01\u001b[0m\n",
      "\u001b[?25hDownloading legacy_api_wrap-1.4.1-py3-none-any.whl (10.0 kB)\n",
      "Downloading matplotlib-3.10.1-cp312-cp312-manylinux_2_17_x86_64.manylinux2014_x86_64.whl (8.6 MB)\n",
      "\u001b[2K   \u001b[38;2;114;156;31m━━━━━━━━━━━━━━━━━━━━━━━━━━━━━━━━━━━━━━━━\u001b[0m \u001b[32m8.6/8.6 MB\u001b[0m \u001b[31m4.7 MB/s\u001b[0m eta \u001b[36m0:00:00\u001b[0m[36m0:00:01\u001b[0m[36m0:00:01\u001b[0m:01\u001b[0m\n",
      "\u001b[?25hDownloading networkx-3.4.2-py3-none-any.whl (1.7 MB)\n",
      "\u001b[2K   \u001b[38;2;114;156;31m━━━━━━━━━━━━━━━━━━━━━━━━━━━━━━━━━━━━━━━━\u001b[0m \u001b[32m1.7/1.7 MB\u001b[0m \u001b[31m4.3 MB/s\u001b[0m eta \u001b[36m0:00:00\u001b[0m MB/s\u001b[0m eta \u001b[36m0:00:01\u001b[0m\n",
      "\u001b[?25hDownloading numba-0.61.2-cp312-cp312-manylinux2014_x86_64.manylinux_2_17_x86_64.whl (3.9 MB)\n",
      "\u001b[2K   \u001b[38;2;114;156;31m━━━━━━━━━━━━━━━━━━━━━━━━━━━━━━━━━━━━━━━━\u001b[0m \u001b[32m3.9/3.9 MB\u001b[0m \u001b[31m4.6 MB/s\u001b[0m eta \u001b[36m0:00:00\u001b[0m[31m4.7 MB/s\u001b[0m eta \u001b[36m0:00:01\u001b[0m\n",
      "\u001b[?25hDownloading numpy-2.2.5-cp312-cp312-manylinux_2_17_x86_64.manylinux2014_x86_64.whl (16.1 MB)\n",
      "\u001b[2K   \u001b[38;2;114;156;31m━━━━━━━━━━━━━━━━━━━━━━━━━━━━━━━━━━━━━━━━\u001b[0m \u001b[32m16.1/16.1 MB\u001b[0m \u001b[31m4.6 MB/s\u001b[0m eta \u001b[36m0:00:00\u001b[0mm eta \u001b[36m0:00:01\u001b[0m0:01\u001b[0m:01\u001b[0m\n",
      "\u001b[?25hDownloading pandas-2.2.3-cp312-cp312-manylinux_2_17_x86_64.manylinux2014_x86_64.whl (12.7 MB)\n",
      "\u001b[2K   \u001b[38;2;114;156;31m━━━━━━━━━━━━━━━━━━━━━━━━━━━━━━━━━━━━━━━━\u001b[0m \u001b[32m12.7/12.7 MB\u001b[0m \u001b[31m3.3 MB/s\u001b[0m eta \u001b[36m0:00:00\u001b[0mm eta \u001b[36m0:00:01\u001b[0m0:01\u001b[0m:01\u001b[0m\n",
      "\u001b[?25hDownloading patsy-1.0.1-py2.py3-none-any.whl (232 kB)\n",
      "Using cached pynndescent-0.5.13-py3-none-any.whl (56 kB)\n",
      "Using cached joblib-1.4.2-py3-none-any.whl (301 kB)\n",
      "Downloading scikit_learn-1.5.2-cp312-cp312-manylinux_2_17_x86_64.manylinux2014_x86_64.whl (12.9 MB)\n",
      "\u001b[2K   \u001b[38;2;114;156;31m━━━━━━━━━━━━━━━━━━━━━━━━━━━━━━━━━━━━━━━━\u001b[0m \u001b[32m12.9/12.9 MB\u001b[0m \u001b[31m4.7 MB/s\u001b[0m eta \u001b[36m0:00:00\u001b[0m MB/s\u001b[0m eta \u001b[36m0:00:01\u001b[0m:01\u001b[0m\n",
      "\u001b[?25hDownloading scipy-1.15.2-cp312-cp312-manylinux_2_17_x86_64.manylinux2014_x86_64.whl (37.3 MB)\n",
      "\u001b[2K   \u001b[38;2;114;156;31m━━━━━━━━━━━━━━━━━━━━━━━━━━━━━━━━━━━━━━━━\u001b[0m \u001b[32m37.3/37.3 MB\u001b[0m \u001b[31m4.7 MB/s\u001b[0m eta \u001b[36m0:00:00\u001b[0mm eta \u001b[36m0:00:01\u001b[0m[36m0:00:01\u001b[0m\n",
      "\u001b[?25hUsing cached seaborn-0.13.2-py3-none-any.whl (294 kB)\n",
      "Downloading statsmodels-0.14.4-cp312-cp312-manylinux_2_17_x86_64.manylinux2014_x86_64.whl (10.7 MB)\n",
      "\u001b[2K   \u001b[38;2;114;156;31m━━━━━━━━━━━━━━━━━━━━━━━━━━━━━━━━━━━━━━━━\u001b[0m \u001b[32m10.7/10.7 MB\u001b[0m \u001b[31m4.7 MB/s\u001b[0m eta \u001b[36m0:00:00\u001b[0m[36m0:00:01\u001b[0m36m0:00:01\u001b[0m:02\u001b[0m\n",
      "\u001b[?25hUsing cached umap_learn-0.5.7-py3-none-any.whl (88 kB)\n",
      "Using cached natsort-8.4.0-py3-none-any.whl (38 kB)\n",
      "Downloading session_info2-0.1.2-py3-none-any.whl (14 kB)\n",
      "Downloading array_api_compat-1.11.2-py3-none-any.whl (53 kB)\n",
      "Downloading contourpy-1.3.2-cp312-cp312-manylinux_2_17_x86_64.manylinux2014_x86_64.whl (323 kB)\n",
      "Using cached cycler-0.12.1-py3-none-any.whl (8.3 kB)\n",
      "Downloading fonttools-4.57.0-cp312-cp312-manylinux_2_5_x86_64.manylinux1_x86_64.manylinux_2_17_x86_64.manylinux2014_x86_64.whl (4.9 MB)\n",
      "\u001b[2K   \u001b[38;2;114;156;31m━━━━━━━━━━━━━━━━━━━━━━━━━━━━━━━━━━━━━━━━\u001b[0m \u001b[32m4.9/4.9 MB\u001b[0m \u001b[31m4.5 MB/s\u001b[0m eta \u001b[36m0:00:00\u001b[0m[31m4.7 MB/s\u001b[0m eta \u001b[36m0:00:01\u001b[0m\n",
      "\u001b[?25hDownloading kiwisolver-1.4.8-cp312-cp312-manylinux_2_17_x86_64.manylinux2014_x86_64.whl (1.5 MB)\n",
      "\u001b[2K   \u001b[38;2;114;156;31m━━━━━━━━━━━━━━━━━━━━━━━━━━━━━━━━━━━━━━━━\u001b[0m \u001b[32m1.5/1.5 MB\u001b[0m \u001b[31m4.7 MB/s\u001b[0m eta \u001b[36m0:00:00\u001b[0m MB/s\u001b[0m eta \u001b[36m0:00:01\u001b[0m\n",
      "\u001b[?25hDownloading llvmlite-0.44.0-cp312-cp312-manylinux_2_17_x86_64.manylinux2014_x86_64.whl (42.4 MB)\n",
      "\u001b[2K   \u001b[38;2;114;156;31m━━━━━━━━━━━━━━━━━━━━━━━━━━━━━━━━━━━━━━━━\u001b[0m \u001b[32m42.4/42.4 MB\u001b[0m \u001b[31m4.3 MB/s\u001b[0m eta \u001b[36m0:00:00\u001b[0mm eta \u001b[36m0:00:01\u001b[0m0:01\u001b[0m:01\u001b[0m\n",
      "\u001b[?25hDownloading pyparsing-3.2.3-py3-none-any.whl (111 kB)\n",
      "Downloading threadpoolctl-3.6.0-py3-none-any.whl (18 kB)\n",
      "Downloading tzdata-2025.2-py2.py3-none-any.whl (347 kB)\n",
      "Installing collected packages: tzdata, threadpoolctl, session-info2, pyparsing, numpy, networkx, natsort, llvmlite, legacy-api-wrap, kiwisolver, joblib, fonttools, cycler, array-api-compat, scipy, patsy, pandas, numba, h5py, contourpy, statsmodels, scikit-learn, matplotlib, anndata, seaborn, pynndescent, umap-learn, scanpy\n",
      "Successfully installed anndata-0.11.4 array-api-compat-1.11.2 contourpy-1.3.2 cycler-0.12.1 fonttools-4.57.0 h5py-3.13.0 joblib-1.4.2 kiwisolver-1.4.8 legacy-api-wrap-1.4.1 llvmlite-0.44.0 matplotlib-3.10.1 natsort-8.4.0 networkx-3.4.2 numba-0.61.2 numpy-2.2.5 pandas-2.2.3 patsy-1.0.1 pynndescent-0.5.13 pyparsing-3.2.3 scanpy-1.11.1 scikit-learn-1.5.2 scipy-1.15.2 seaborn-0.13.2 session-info2-0.1.2 statsmodels-0.14.4 threadpoolctl-3.6.0 tzdata-2025.2 umap-learn-0.5.7\n"
     ]
    }
   ],
   "source": [
    "!pip install scanpy\n"
   ]
  },
  {
   "cell_type": "code",
   "execution_count": 1,
   "id": "5d4b0e0e-e1f0-437b-a4f4-9b6ac640dbf5",
   "metadata": {},
   "outputs": [
    {
     "name": "stdout",
     "output_type": "stream",
     "text": [
      "WARNING: Your filename has more than two extensions: ['.BET', '.762_bottle_512_edim_256,128_pdim_128,64_model_DAECurriculum_dropout_0', '.1_gene_F_lr_0', '.5_mod_new_sam_upsampling', '.h5ad'].\n",
      "Only considering the two last: ['.5_mod_new_sam_upsampling', '.h5ad'].\n",
      "WARNING: Your filename has more than two extensions: ['.BET', '.762_bottle_512_edim_256,128_pdim_128,64_model_DAECurriculum_dropout_0', '.1_gene_F_lr_0', '.5_mod_new_sam_upsampling', '.h5ad'].\n",
      "Only considering the two last: ['.5_mod_new_sam_upsampling', '.h5ad'].\n"
     ]
    }
   ],
   "source": [
    "import scanpy as sc\n",
    "adata = sc.read(\"/home/franciscojavier/Escritorio/TFG/scDEAL/save/adata/GSE110894_integrate_data_GSE110894_drug_I.BET.762_bottle_512_edim_256,128_pdim_128,64_model_DAECurriculum_dropout_0.1_gene_F_lr_0.5_mod_new_sam_upsampling.h5ad\")\n"
   ]
  },
  {
   "cell_type": "code",
   "execution_count": 2,
   "id": "750e7f75-b1ab-4fc7-9d0b-082a1ba4ef08",
   "metadata": {},
   "outputs": [
    {
     "name": "stdout",
     "output_type": "stream",
     "text": [
      "Index(['Plate#', 'Well position', 'Sample name', 'Index-Sort condition',\n",
      "       'Well index', 'sensitive', 'sensitivity', 'Sensitive_score',\n",
      "       'Resistant_score', 'leiden', 'n_genes', 'n_genes_by_counts',\n",
      "       'total_counts', 'total_counts_mt-', 'pct_counts_mt-',\n",
      "       'total_counts_rps', 'pct_counts_rps', 'total_counts_rpl',\n",
      "       'pct_counts_rpl', 'leiden_origin', 'sens_preds', 'sens_label',\n",
      "       'rest_preds'],\n",
      "      dtype='object')\n"
     ]
    }
   ],
   "source": [
    "print(adata.obs.columns)"
   ]
  },
  {
   "cell_type": "code",
   "execution_count": 3,
   "id": "ff1fdc0f-cc7e-40da-ae8a-63a09c06fb7a",
   "metadata": {},
   "outputs": [
    {
     "name": "stdout",
     "output_type": "stream",
     "text": [
      "(1419, 6644)\n"
     ]
    }
   ],
   "source": [
    "print(adata.shape)\n"
   ]
  },
  {
   "cell_type": "code",
   "execution_count": 18,
   "id": "943830f7-7ffa-4b09-a841-affbc3298178",
   "metadata": {},
   "outputs": [
    {
     "name": "stdout",
     "output_type": "stream",
     "text": [
      "WARNING: Your filename has more than two extensions: ['.BET', '.762_bottle_512_edim_256,128_pdim_128,64_model_DAE_dropout_0', '.1_gene_F_lr_0', '.5_mod_new_sam_upsampling', '.h5ad'].\n",
      "Only considering the two last: ['.5_mod_new_sam_upsampling', '.h5ad'].\n",
      "WARNING: Your filename has more than two extensions: ['.BET', '.762_bottle_512_edim_256,128_pdim_128,64_model_DAE_dropout_0', '.1_gene_F_lr_0', '.5_mod_new_sam_upsampling', '.h5ad'].\n",
      "Only considering the two last: ['.5_mod_new_sam_upsampling', '.h5ad'].\n",
      "WARNING: Your filename has more than two extensions: ['.BET', '.762_bottle_512_edim_256,128_pdim_128,64_model_DAEGenImpo_dropout_0', '.1_gene_F_lr_0', '.5_mod_new_sam_upsampling', '.h5ad'].\n",
      "Only considering the two last: ['.5_mod_new_sam_upsampling', '.h5ad'].\n",
      "WARNING: Your filename has more than two extensions: ['.BET', '.762_bottle_512_edim_256,128_pdim_128,64_model_DAEGenImpo_dropout_0', '.1_gene_F_lr_0', '.5_mod_new_sam_upsampling', '.h5ad'].\n",
      "Only considering the two last: ['.5_mod_new_sam_upsampling', '.h5ad'].\n",
      "WARNING: Your filename has more than two extensions: ['.BET', '.762_bottle_512_edim_256,128_pdim_128,64_model_DAECurriculum_dropout_0', '.1_gene_F_lr_0', '.5_mod_new_sam_upsampling', '.h5ad'].\n",
      "Only considering the two last: ['.5_mod_new_sam_upsampling', '.h5ad'].\n",
      "WARNING: Your filename has more than two extensions: ['.BET', '.762_bottle_512_edim_256,128_pdim_128,64_model_DAECurriculum_dropout_0', '.1_gene_F_lr_0', '.5_mod_new_sam_upsampling', '.h5ad'].\n",
      "Only considering the two last: ['.5_mod_new_sam_upsampling', '.h5ad'].\n",
      "WARNING: Your filename has more than two extensions: ['.BET', '.762_bottle_512_edim_256,128_pdim_128,64_model_DAEGenImpo2_dropout_0', '.1_gene_F_lr_0', '.5_mod_new_sam_upsampling', '.h5ad'].\n",
      "Only considering the two last: ['.5_mod_new_sam_upsampling', '.h5ad'].\n",
      "WARNING: Your filename has more than two extensions: ['.BET', '.762_bottle_512_edim_256,128_pdim_128,64_model_DAEGenImpo2_dropout_0', '.1_gene_F_lr_0', '.5_mod_new_sam_upsampling', '.h5ad'].\n",
      "Only considering the two last: ['.5_mod_new_sam_upsampling', '.h5ad'].\n"
     ]
    }
   ],
   "source": [
    "import scanpy as sc\n",
    "# El archivo generado con DAE normal (prioritized loss)\n",
    "adata_DAEnormal = sc.read(\"/home/franciscojavier/Escritorio/TFG/scDEAL/save/adata/GSE110894_integrate_data_GSE110894_drug_I.BET.762_bottle_512_edim_256,128_pdim_128,64_model_DAE_dropout_0.1_gene_F_lr_0.5_mod_new_sam_upsampling.h5ad\")\n",
    "\n",
    "# El archivo generado con DAE + Gene Importance (prioritized loss)\n",
    "adata_DAEGENIMPO = sc.read(\"/home/franciscojavier/Escritorio/TFG/scDEAL/save/adata/GSE110894integrate_data_GSE110894_drug_I.BET.762_bottle_512_edim_256,128_pdim_128,64_model_DAEGenImpo_dropout_0.1_gene_F_lr_0.5_mod_new_sam_upsampling.h5ad\")\n",
    "\n",
    "\n",
    "#Archivo DAE+CURRICULUM\n",
    "adata_curriculum = sc.read(\"/home/franciscojavier/Escritorio/TFG/scDEAL/save/adata/GSE110894_integrate_data_GSE110894_drug_I.BET.762_bottle_512_edim_256,128_pdim_128,64_model_DAECurriculum_dropout_0.1_gene_F_lr_0.5_mod_new_sam_upsampling.h5ad\")\n",
    "\n",
    "\n",
    "# El archivo generado con DAE Currcculum +GENIMPo\n",
    "adata_genimpoCurriculum = sc.read(\"/home/franciscojavier/Escritorio/TFG/scDEAL/save/adata/GSE110894_integrate_data_GSE110894_drug_I.BET.762_bottle_512_edim_256,128_pdim_128,64_model_DAEGenImpo2_dropout_0.1_gene_F_lr_0.5_mod_new_sam_upsampling.h5ad\")\n"
   ]
  },
  {
   "cell_type": "code",
   "execution_count": 19,
   "id": "d2e83fe4-93f8-4873-88a9-b5f5a1f09ee7",
   "metadata": {},
   "outputs": [
    {
     "name": "stdout",
     "output_type": "stream",
     "text": [
      "¿Son iguales las predicciones de sensibilidad? False\n"
     ]
    }
   ],
   "source": [
    "import numpy as np\n",
    "\n",
    "# Comprobar si son iguales\n",
    "are_equal = np.allclose(adata_DAEnormal.obs['sens_preds'], adata_DAEGENIMPO.obs['sens_preds'],adata_curriculum.obs['sens_preds'], adata_genimpoCurriculum.obs['sens_preds'])\n",
    "\n",
    "print(f\"¿Son iguales las predicciones de sensibilidad? {are_equal}\")\n"
   ]
  },
  {
   "cell_type": "code",
   "execution_count": 20,
   "id": "6a6536a2-4870-4709-8416-35fd715d11f9",
   "metadata": {},
   "outputs": [
    {
     "name": "stdout",
     "output_type": "stream",
     "text": [
      "Diferencia media absoluta: 0.004253765568137169\n"
     ]
    }
   ],
   "source": [
    "# Diferencia media absoluta\n",
    "diff = np.abs(adata_DAEnormal.obs['sens_preds'] - adata_genimpo.obs['sens_preds'])\n",
    "print(f\"Diferencia media absoluta: {diff.mean()}\")\n"
   ]
  },
  {
   "cell_type": "code",
   "execution_count": 21,
   "id": "6a0f7db3-6cf8-4bee-8a13-e613acdfc3ac",
   "metadata": {},
   "outputs": [
    {
     "name": "stdout",
     "output_type": "stream",
     "text": [
      "📊 Resultados DAE Normal:\n",
      "AUC: 0.8695\n",
      "Average Precision: 0.7777\n",
      "Accuracy: 0.7393\n",
      "F1 Score: 0.7332\n",
      "\n",
      "📊 Resultados DAE + CURRICULUM:\n",
      "AUC: 0.9472\n",
      "Average Precision: 0.9672\n",
      "Accuracy: 0.9493\n",
      "F1 Score: 0.9493\n"
     ]
    }
   ],
   "source": [
    "from sklearn.metrics import roc_auc_score, average_precision_score, f1_score, accuracy_score\n",
    "\n",
    "# Verdadero label\n",
    "y_true = adata_normal.obs['sensitive']\n",
    "\n",
    "# Predicciones normales\n",
    "y_pred_normal = adata_normal.obs['sens_preds']\n",
    "y_label_normal = adata_normal.obs['sens_label']\n",
    "\n",
    "# Predicciones con Gene Importance\n",
    "y_pred_genimpo = adata_genimpo.obs['sens_preds']\n",
    "y_label_genimpo = adata_genimpo.obs['sens_label']\n",
    "\n",
    "# Evaluación\n",
    "print(\"📊 Resultados DAE Normal:\")\n",
    "print(f\"AUC: {roc_auc_score(y_true, y_pred_normal):.4f}\")\n",
    "print(f\"Average Precision: {average_precision_score(y_true, y_pred_normal):.4f}\")\n",
    "print(f\"Accuracy: {accuracy_score(y_true, y_label_normal):.4f}\")\n",
    "print(f\"F1 Score: {f1_score(y_true, y_label_normal, average='weighted'):.4f}\")\n",
    "\n",
    "print(\"\\n📊 Resultados DAE + CURRICULUM:\")\n",
    "print(f\"AUC: {roc_auc_score(y_true, y_pred_genimpo):.4f}\")\n",
    "print(f\"Average Precision: {average_precision_score(y_true, y_pred_genimpo):.4f}\")\n",
    "print(f\"Accuracy: {accuracy_score(y_true, y_label_genimpo):.4f}\")\n",
    "print(f\"F1 Score: {f1_score(y_true, y_label_genimpo, average='weighted'):.4f}\")\n"
   ]
  },
  {
   "cell_type": "markdown",
   "id": "13d9c9c7-a39c-4a6b-ad90-c1d5b9d89269",
   "metadata": {},
   "source": [
    "# COMPARAR TODOS LOS MODELOS"
   ]
  },
  {
   "cell_type": "code",
   "execution_count": 5,
   "id": "cc7db819-669e-4aaa-bf0f-915239c7a62b",
   "metadata": {},
   "outputs": [
    {
     "name": "stdout",
     "output_type": "stream",
     "text": [
      "WARNING: Your filename has more than two extensions: ['.BET', '.762_bottle_512_edim_256,128_pdim_128,64_model_DAE_dropout_0', '.1_gene_F_lr_0', '.5_mod_new_sam_upsampling', '.h5ad'].\n",
      "Only considering the two last: ['.5_mod_new_sam_upsampling', '.h5ad'].\n",
      "WARNING: Your filename has more than two extensions: ['.BET', '.762_bottle_512_edim_256,128_pdim_128,64_model_DAE_dropout_0', '.1_gene_F_lr_0', '.5_mod_new_sam_upsampling', '.h5ad'].\n",
      "Only considering the two last: ['.5_mod_new_sam_upsampling', '.h5ad'].\n",
      "WARNING: Your filename has more than two extensions: ['.BET', '.762_bottle_512_edim_256,128_pdim_128,64_model_DAEGenImpo_dropout_0', '.1_gene_F_lr_0', '.5_mod_new_sam_upsampling', '.h5ad'].\n",
      "Only considering the two last: ['.5_mod_new_sam_upsampling', '.h5ad'].\n",
      "WARNING: Your filename has more than two extensions: ['.BET', '.762_bottle_512_edim_256,128_pdim_128,64_model_DAEGenImpo_dropout_0', '.1_gene_F_lr_0', '.5_mod_new_sam_upsampling', '.h5ad'].\n",
      "Only considering the two last: ['.5_mod_new_sam_upsampling', '.h5ad'].\n",
      "WARNING: Your filename has more than two extensions: ['.BET', '.762_bottle_512_edim_256,128_pdim_128,64_model_DAEGenImpo12_dropout_0', '.1_gene_F_lr_0', '.5_mod_new_sam_upsampling', '.h5ad'].\n",
      "Only considering the two last: ['.5_mod_new_sam_upsampling', '.h5ad'].\n",
      "WARNING: Your filename has more than two extensions: ['.BET', '.762_bottle_512_edim_256,128_pdim_128,64_model_DAEGenImpo12_dropout_0', '.1_gene_F_lr_0', '.5_mod_new_sam_upsampling', '.h5ad'].\n",
      "Only considering the two last: ['.5_mod_new_sam_upsampling', '.h5ad'].\n",
      "WARNING: Your filename has more than two extensions: ['.BET', '.762_bottle_512_edim_256,128_pdim_128,64_model_DAECurriculum_dropout_0', '.1_gene_F_lr_0', '.5_mod_new_sam_upsampling', '.h5ad'].\n",
      "Only considering the two last: ['.5_mod_new_sam_upsampling', '.h5ad'].\n",
      "WARNING: Your filename has more than two extensions: ['.BET', '.762_bottle_512_edim_256,128_pdim_128,64_model_DAECurriculum_dropout_0', '.1_gene_F_lr_0', '.5_mod_new_sam_upsampling', '.h5ad'].\n",
      "Only considering the two last: ['.5_mod_new_sam_upsampling', '.h5ad'].\n",
      "WARNING: Your filename has more than two extensions: ['.BET', '.762_bottle_512_edim_256,128_pdim_128,64_model_DAEGenImpoCurriculum2_dropout_0', '.1_gene_F_lr_0', '.5_mod_new_sam_upsampling', '.h5ad'].\n",
      "Only considering the two last: ['.5_mod_new_sam_upsampling', '.h5ad'].\n",
      "WARNING: Your filename has more than two extensions: ['.BET', '.762_bottle_512_edim_256,128_pdim_128,64_model_DAEGenImpoCurriculum2_dropout_0', '.1_gene_F_lr_0', '.5_mod_new_sam_upsampling', '.h5ad'].\n",
      "Only considering the two last: ['.5_mod_new_sam_upsampling', '.h5ad'].\n",
      "WARNING: Your filename has more than two extensions: ['.BET', '.762_bottle_512_edim_256,128_pdim_128,64_model_DAETOPPP_dropout_0', '.1_gene_F_lr_0', '.5_mod_new_sam_upsampling', '.h5ad'].\n",
      "Only considering the two last: ['.5_mod_new_sam_upsampling', '.h5ad'].\n",
      "WARNING: Your filename has more than two extensions: ['.BET', '.762_bottle_512_edim_256,128_pdim_128,64_model_DAETOPPP_dropout_0', '.1_gene_F_lr_0', '.5_mod_new_sam_upsampling', '.h5ad'].\n",
      "Only considering the two last: ['.5_mod_new_sam_upsampling', '.h5ad'].\n",
      "WARNING: Your filename has more than two extensions: ['.BET', '.762_bottle_512_edim_256,128_pdim_128,64_model_DAETOP2_dropout_0', '.1_gene_F_lr_0', '.5_mod_new_sam_upsampling', '.h5ad'].\n",
      "Only considering the two last: ['.5_mod_new_sam_upsampling', '.h5ad'].\n",
      "WARNING: Your filename has more than two extensions: ['.BET', '.762_bottle_512_edim_256,128_pdim_128,64_model_DAETOP2_dropout_0', '.1_gene_F_lr_0', '.5_mod_new_sam_upsampling', '.h5ad'].\n",
      "Only considering the two last: ['.5_mod_new_sam_upsampling', '.h5ad'].\n",
      "WARNING: Your filename has more than two extensions: ['.BET', '.762_bottle_512_edim_256,128_pdim_128,64_model_DAEIntento2_dropout_0', '.1_gene_F_lr_0', '.5_mod_new_sam_upsampling', '.h5ad'].\n",
      "Only considering the two last: ['.5_mod_new_sam_upsampling', '.h5ad'].\n",
      "WARNING: Your filename has more than two extensions: ['.BET', '.762_bottle_512_edim_256,128_pdim_128,64_model_DAEIntento2_dropout_0', '.1_gene_F_lr_0', '.5_mod_new_sam_upsampling', '.h5ad'].\n",
      "Only considering the two last: ['.5_mod_new_sam_upsampling', '.h5ad'].\n",
      "WARNING: Your filename has more than two extensions: ['.BET', '.762_bottle_512_edim_256,128_pdim_128,64_model_DAEIntento3_dropout_0', '.1_gene_F_lr_0', '.5_mod_new_sam_upsampling', '.h5ad'].\n",
      "Only considering the two last: ['.5_mod_new_sam_upsampling', '.h5ad'].\n",
      "WARNING: Your filename has more than two extensions: ['.BET', '.762_bottle_512_edim_256,128_pdim_128,64_model_DAEIntento3_dropout_0', '.1_gene_F_lr_0', '.5_mod_new_sam_upsampling', '.h5ad'].\n",
      "Only considering the two last: ['.5_mod_new_sam_upsampling', '.h5ad'].\n"
     ]
    }
   ],
   "source": [
    "import scanpy as sc\n",
    "from sklearn.metrics import roc_auc_score, average_precision_score, f1_score, accuracy_score\n",
    "\n",
    "# Cargar los archivos .h5ad\n",
    "adata_DAEnormal = sc.read(\"/home/franciscojavier/Escritorio/TFG/scDEAL/save/adata/GSE110894integrate_data_GSE110894_drug_I.BET.762_bottle_512_edim_256,128_pdim_128,64_model_DAE_dropout_0.1_gene_F_lr_0.5_mod_new_sam_upsampling.h5ad\")\n",
    "adata_DAEGENIMPOconScmodel = sc.read(\"/home/franciscojavier/Escritorio/TFG/scDEAL/save/adata/GSE110894_integrate_data_GSE110894_drug_I.BET.762_bottle_512_edim_256,128_pdim_128,64_model_DAEGenImpo_dropout_0.1_gene_F_lr_0.5_mod_new_sam_upsampling.h5ad\")\n",
    "adata_DAEGENIMPOsinScmodel = sc.read(\"/home/franciscojavier/Escritorio/TFG/scDEAL/save/adata/GSE110894_integrate_data_GSE110894_drug_I.BET.762_bottle_512_edim_256,128_pdim_128,64_model_DAEGenImpo12_dropout_0.1_gene_F_lr_0.5_mod_new_sam_upsampling.h5ad\")\n",
    "adata_curriculum = sc.read(\"/home/franciscojavier/Escritorio/TFG/scDEAL/save/adata/GSE110894_integrate_data_GSE110894_drug_I.BET.762_bottle_512_edim_256,128_pdim_128,64_model_DAECurriculum_dropout_0.1_gene_F_lr_0.5_mod_new_sam_upsampling.h5ad\")\n",
    "adata_genimpoCurriculum = sc.read(\"/home/franciscojavier/Escritorio/TFG/scDEAL/save/adata/GSE110894_integrate_data_GSE110894_drug_I.BET.762_bottle_512_edim_256,128_pdim_128,64_model_DAEGenImpoCurriculum2_dropout_0.1_gene_F_lr_0.5_mod_new_sam_upsampling.h5ad\")\n",
    "adata_topgenesconterseccion=sc.read(\"/home/franciscojavier/Escritorio/TFG/scDEAL/save/adata/GSE110894_integrate_data_GSE110894_drug_I.BET.762_bottle_512_edim_256,128_pdim_128,64_model_DAETOPPP_dropout_0.1_gene_F_lr_0.5_mod_new_sam_upsampling.h5ad\")\n",
    "adata_topgenessininterseccion= sc.read(\"/home/franciscojavier/Escritorio/TFG/scDEAL/save/adata/GSE110894_integrate_data_GSE110894_drug_I.BET.762_bottle_512_edim_256,128_pdim_128,64_model_DAETOP2_dropout_0.1_gene_F_lr_0.5_mod_new_sam_upsampling.h5ad\")\n",
    "adata_topgenessinpasarloaraton= sc.read(\"/home/franciscojavier/Escritorio/TFG/scDEAL/save/adata/GSE110894_integrate_data_GSE110894_drug_I.BET.762_bottle_512_edim_256,128_pdim_128,64_model_DAEIntento2_dropout_0.1_gene_F_lr_0.5_mod_new_sam_upsampling.h5ad\")\n",
    "adata_topgenespasandoloaratonperousandoinclusoaquellosqnoestanenscdata= sc.read(\"/home/franciscojavier/Escritorio/TFG/scDEAL/save/adata/GSE110894_integrate_data_GSE110894_drug_I.BET.762_bottle_512_edim_256,128_pdim_128,64_model_DAEIntento3_dropout_0.1_gene_F_lr_0.5_mod_new_sam_upsampling.h5ad\")\n",
    "\n",
    "# Etiquetas verdaderas\n",
    "y_true = adata_DAEnormal.obs['sensitive']\n",
    "\n",
    "def evaluar_modelo(nombre, adata):\n",
    "    y_pred = adata.obs['sens_preds']\n",
    "    y_label = adata.obs['sens_label']\n",
    "    print(f\"\\n📊 Resultados {nombre}:\")\n",
    "    print(f\"AUC: {roc_auc_score(y_true, y_pred):.4f}\")\n",
    "    print(f\"Average Precision: {average_precision_score(y_true, y_pred):.4f}\")\n",
    "    print(f\"Accuracy: {accuracy_score(y_true, y_label):.4f}\")\n",
    "    print(f\"F1 Score: {f1_score(y_true, y_label, average='weighted'):.4f}\")\n"
   ]
  },
  {
   "cell_type": "code",
   "execution_count": 6,
   "id": "7abe53c6-e1b7-4907-bba2-9010ff962ca3",
   "metadata": {},
   "outputs": [
    {
     "name": "stdout",
     "output_type": "stream",
     "text": [
      "\n",
      "📊 Resultados DAE Normal:\n",
      "AUC: 0.9491\n",
      "Average Precision: 0.9673\n",
      "Accuracy: 0.9479\n",
      "F1 Score: 0.9479\n",
      "\n",
      "📊 Resultados DAE + Gene Importance sin Scmodel:\n",
      "AUC: 0.8662\n",
      "Average Precision: 0.7737\n",
      "Accuracy: 0.7336\n",
      "F1 Score: 0.7270\n",
      "\n",
      "📊 Resultados DAE + Gene Importance con Scmodel:\n",
      "AUC: 0.8662\n",
      "Average Precision: 0.7737\n",
      "Accuracy: 0.7336\n",
      "F1 Score: 0.7270\n",
      "\n",
      "📊 Resultados DAE + Curriculum:\n",
      "AUC: 0.9472\n",
      "Average Precision: 0.9672\n",
      "Accuracy: 0.9493\n",
      "F1 Score: 0.9493\n",
      "\n",
      "📊 Resultados DAE + Gene Importance + Curriculum:\n",
      "AUC: 0.8695\n",
      "Average Precision: 0.7777\n",
      "Accuracy: 0.7393\n",
      "F1 Score: 0.7332\n",
      "\n",
      "📊 Resultados DAE TOP GENES RATON INTERSECCION SCDATA:\n",
      "AUC: 0.9442\n",
      "Average Precision: 0.9705\n",
      "Accuracy: 0.9479\n",
      "F1 Score: 0.9479\n",
      "\n",
      "📊 Resultados DAE TOP GENES RATON SIN INTERSECCION, SCDATA CON TODA SU MATRIZ:\n",
      "AUC: 0.9444\n",
      "Average Precision: 0.9706\n",
      "Accuracy: 0.9514\n",
      "F1 Score: 0.9514\n",
      "\n",
      "📊 Resultados DAE TOP GENES RATON SIN PASARLO A RATON:\n",
      "AUC: 0.9549\n",
      "Average Precision: 0.9757\n",
      "Accuracy: 0.9641\n",
      "F1 Score: 0.9641\n",
      "\n",
      "📊 Resultados DAE TOP GENES RATON PASADNOLO LOS TOP A RATON Y USANDO AQUELLOS Q INCLUSO NO ESTAN EN SCDATA:\n",
      "AUC: 0.9871\n",
      "Average Precision: 0.9885\n",
      "Accuracy: 0.9436\n",
      "F1 Score: 0.9435\n"
     ]
    }
   ],
   "source": [
    "evaluar_modelo(\"DAE Normal\", adata_DAEnormal)\n",
    "evaluar_modelo(\"DAE + Gene Importance sin Scmodel\", adata_DAEGENIMPOsinScmodel)\n",
    "evaluar_modelo(\"DAE + Gene Importance con Scmodel\", adata_DAEGENIMPOconScmodel)\n",
    "evaluar_modelo(\"DAE + Curriculum\", adata_curriculum)\n",
    "evaluar_modelo(\"DAE + Gene Importance + Curriculum\", adata_genimpoCurriculum)\n",
    "evaluar_modelo(\"DAE TOP GENES RATON INTERSECCION SCDATA\", adata_topgenesconterseccion)\n",
    "evaluar_modelo(\"DAE TOP GENES RATON SIN INTERSECCION, SCDATA CON TODA SU MATRIZ\", adata_topgenessininterseccion)\n",
    "evaluar_modelo(\"DAE TOP GENES RATON SIN PASARLO A RATON\", adata_topgenessinpasarloaraton)\n",
    "evaluar_modelo(\"DAE TOP GENES RATON PASADNOLO LOS TOP A RATON Y USANDO AQUELLOS Q INCLUSO NO ESTAN EN SCDATA\", adata_topgenespasandoloaratonperousandoinclusoaquellosqnoestanenscdata)\n"
   ]
  }
 ],
 "metadata": {
  "kernelspec": {
   "display_name": "Python (scDEALenv)",
   "language": "python",
   "name": "scdealenv"
  },
  "language_info": {
   "codemirror_mode": {
    "name": "ipython",
    "version": 3
   },
   "file_extension": ".py",
   "mimetype": "text/x-python",
   "name": "python",
   "nbconvert_exporter": "python",
   "pygments_lexer": "ipython3",
   "version": "3.7.12"
  }
 },
 "nbformat": 4,
 "nbformat_minor": 5
}
