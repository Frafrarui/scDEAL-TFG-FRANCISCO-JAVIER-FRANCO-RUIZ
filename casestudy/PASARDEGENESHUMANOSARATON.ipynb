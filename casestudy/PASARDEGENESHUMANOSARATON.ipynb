{
 "cells": [
  {
   "cell_type": "code",
   "execution_count": 7,
   "id": "90cea036-0990-4d17-a588-5d6a12bdf8af",
   "metadata": {},
   "outputs": [
    {
     "name": "stdout",
     "output_type": "stream",
     "text": [
      "Cargando matriz desde: /home/franciscojavier/Escritorio/TFG/scDEAL/data/ALL_expression.csv\n",
      "Archivo de texto guardado: /home/franciscojavier/Escritorio/TFG/scDEAL/save/adata/selected_genes_ALL_expression.txt\n",
      "CSV con expresión filtrada guardado: /home/franciscojavier/Escritorio/TFG/scDEAL/save/adata/expression_ALL_expression_top20.csv\n"
     ]
    }
   ],
   "source": [
    "import pandas as pd\n",
    "import numpy as np\n",
    "import os\n",
    "\n",
    "input_csv = \"/home/franciscojavier/Escritorio/TFG/scDEAL/data/ALL_expression.csv\"  \n",
    "top_percentage = 0.2  # 20%\n",
    "output_dir = \"/home/franciscojavier/Escritorio/TFG/scDEAL/save/adata/\"\n",
    "\n",
    "filename_base = os.path.splitext(os.path.basename(input_csv))[0]\n",
    "output_txt = os.path.join(output_dir, f\"selected_genes_{filename_base}.txt\")\n",
    "output_csv = os.path.join(output_dir, f\"expression_{filename_base}_top{int(top_percentage*100)}.csv\")\n",
    "\n",
    "print(f\"Cargando matriz desde: {input_csv}\")\n",
    "df = pd.read_csv(input_csv, index_col=0)\n",
    "variances = df.var(axis=0)\n",
    "top_k = int(len(variances) * top_percentage)\n",
    "top_genes = variances.sort_values(ascending=False).head(top_k).index.tolist()\n",
    "\n",
    "\n",
    "os.makedirs(output_dir, exist_ok=True)\n",
    "with open(output_txt, \"w\") as f:\n",
    "    for gene in top_genes:\n",
    "        f.write(f\"{gene}\\n\")\n",
    "print(f\"Archivo de texto guardado: {output_txt}\")\n",
    "\n",
    "df_filtered = df[top_genes]\n",
    "df_filtered.to_csv(output_csv)\n",
    "print(f\"CSV con expresión filtrada guardado: {output_csv}\")\n"
   ]
  },
  {
   "cell_type": "code",
   "execution_count": 1,
   "id": "44ed42bf-9256-4430-bff5-1c9c0efab5c0",
   "metadata": {},
   "outputs": [
    {
     "name": "stdout",
     "output_type": "stream",
     "text": [
      "Se han leído 3192 genes del archivo.\n",
      "Ejemplo de genes: ['MFSD6', 'GNA11', 'DUSP11', 'TCEAL5', 'IFNGR1', 'C2ORF42', 'RRP1B', 'ANGPT1', 'IGFL3', 'RAET1G']\n"
     ]
    }
   ],
   "source": [
    "# Paso 1: Leer el archivo de genes seleccionados por bulk\n",
    "bulk_genes_path = \"/home/franciscojavier/Escritorio/TFG/scDEAL/save/adata/selected_genes_GSE110894.txt\"\n",
    "\n",
    "with open(bulk_genes_path, \"r\") as f:\n",
    "    bulk_genes = [line.strip() for line in f]\n",
    "\n",
    "print(f\"Se han leído {len(bulk_genes)} genes del archivo.\")\n",
    "print(\"Ejemplo de genes:\", bulk_genes[:10])\n"
   ]
  },
  {
   "cell_type": "code",
   "execution_count": 5,
   "id": "dfed4195-7b59-4009-971d-741312ecc9a3",
   "metadata": {},
   "outputs": [
    {
     "name": "stdout",
     "output_type": "stream",
     "text": [
      "Requirement already satisfied: pybiomart in /home/franciscojavier/Escritorio/TFG/scDEAL/scDEALenv/lib/python3.7/site-packages (0.2.0)\n",
      "Requirement already satisfied: future in /home/franciscojavier/Escritorio/TFG/scDEAL/scDEALenv/lib/python3.7/site-packages (from pybiomart) (1.0.0)\n",
      "Requirement already satisfied: requests-cache in /home/franciscojavier/Escritorio/TFG/scDEAL/scDEALenv/lib/python3.7/site-packages (from pybiomart) (1.1.1)\n",
      "Requirement already satisfied: pandas in /home/franciscojavier/Escritorio/TFG/scDEAL/scDEALenv/lib/python3.7/site-packages (from pybiomart) (1.3.5)\n",
      "Requirement already satisfied: requests in /home/franciscojavier/Escritorio/TFG/scDEAL/scDEALenv/lib/python3.7/site-packages (from pybiomart) (2.28.2)\n",
      "Requirement already satisfied: python-dateutil>=2.7.3 in /home/franciscojavier/Escritorio/TFG/scDEAL/scDEALenv/lib/python3.7/site-packages (from pandas->pybiomart) (2.9.0)\n",
      "Requirement already satisfied: pytz>=2017.3 in /home/franciscojavier/Escritorio/TFG/scDEAL/scDEALenv/lib/python3.7/site-packages (from pandas->pybiomart) (2024.2)\n",
      "Requirement already satisfied: numpy>=1.17.3 in /home/franciscojavier/Escritorio/TFG/scDEAL/scDEALenv/lib/python3.7/site-packages (from pandas->pybiomart) (1.21.6)\n",
      "Requirement already satisfied: urllib3<1.27,>=1.21.1 in /home/franciscojavier/Escritorio/TFG/scDEAL/scDEALenv/lib/python3.7/site-packages (from requests->pybiomart) (1.26.15)\n",
      "Requirement already satisfied: idna<4,>=2.5 in /home/franciscojavier/Escritorio/TFG/scDEAL/scDEALenv/lib/python3.7/site-packages (from requests->pybiomart) (3.4)\n",
      "Requirement already satisfied: certifi>=2017.4.17 in /home/franciscojavier/Escritorio/TFG/scDEAL/scDEALenv/lib/python3.7/site-packages (from requests->pybiomart) (2024.8.30)\n",
      "Requirement already satisfied: charset-normalizer<4,>=2 in /home/franciscojavier/Escritorio/TFG/scDEAL/scDEALenv/lib/python3.7/site-packages (from requests->pybiomart) (3.1.0)\n",
      "Requirement already satisfied: attrs>=21.2 in /home/franciscojavier/Escritorio/TFG/scDEAL/scDEALenv/lib/python3.7/site-packages (from requests-cache->pybiomart) (24.2.0)\n",
      "Requirement already satisfied: url-normalize>=1.4 in /home/franciscojavier/Escritorio/TFG/scDEAL/scDEALenv/lib/python3.7/site-packages (from requests-cache->pybiomart) (1.4.3)\n",
      "Requirement already satisfied: platformdirs>=2.5 in /home/franciscojavier/Escritorio/TFG/scDEAL/scDEALenv/lib/python3.7/site-packages (from requests-cache->pybiomart) (4.0.0)\n",
      "Requirement already satisfied: cattrs>=22.2 in /home/franciscojavier/Escritorio/TFG/scDEAL/scDEALenv/lib/python3.7/site-packages (from requests-cache->pybiomart) (23.1.2)\n",
      "Requirement already satisfied: importlib-metadata in /home/franciscojavier/Escritorio/TFG/scDEAL/scDEALenv/lib/python3.7/site-packages (from attrs>=21.2->requests-cache->pybiomart) (6.0.0)\n",
      "Requirement already satisfied: typing_extensions>=4.1.0 in /home/franciscojavier/Escritorio/TFG/scDEAL/scDEALenv/lib/python3.7/site-packages (from cattrs>=22.2->requests-cache->pybiomart) (4.7.1)\n",
      "Requirement already satisfied: exceptiongroup in /home/franciscojavier/Escritorio/TFG/scDEAL/scDEALenv/lib/python3.7/site-packages (from cattrs>=22.2->requests-cache->pybiomart) (1.2.2)\n",
      "Requirement already satisfied: six>=1.5 in /home/franciscojavier/Escritorio/TFG/scDEAL/scDEALenv/lib/python3.7/site-packages (from python-dateutil>=2.7.3->pandas->pybiomart) (1.16.0)\n",
      "Requirement already satisfied: zipp>=0.5 in /home/franciscojavier/Escritorio/TFG/scDEAL/scDEALenv/lib/python3.7/site-packages (from importlib-metadata->attrs>=21.2->requests-cache->pybiomart) (3.15.0)\n",
      "Note: you may need to restart the kernel to use updated packages.\n"
     ]
    }
   ],
   "source": [
    "pip install pybiomart\n"
   ]
  },
  {
   "cell_type": "code",
   "execution_count": 3,
   "id": "9e61ff8a-d918-4fb2-998a-0bc10658525a",
   "metadata": {},
   "outputs": [
    {
     "name": "stdout",
     "output_type": "stream",
     "text": [
      "Número total de genes en single-cell: 25921\n",
      "Ejemplo de genes en single-cell:\n",
      "['ENSMUSG00000110331', 'ENSMUSG00000006281', 'ENSMUSG00000040726', 'ENSMUSG00000024829', 'ENSMUSG00000029007', 'ENSMUSG00000032026', 'ENSMUSG00000031808', 'ENSMUSG00000042549', 'ENSMUSG00000024007', 'ENSMUSG00000037151']\n"
     ]
    }
   ],
   "source": [
    "import pandas as pd\n",
    "\n",
    "# Leer los datos de single-cell (genes en las filas)\n",
    "sc_path = \"/home/franciscojavier/Escritorio/TFG/scDEAL/data/GSE110894/GSE110894.csv\"\n",
    "sc_df = pd.read_csv(sc_path, index_col=0)\n",
    "\n",
    "# Extraer los nombres de los genes del índice (filas)\n",
    "sc_genes = sc_df.index.tolist()\n",
    "\n",
    "print(f\"Número total de genes en single-cell: {len(sc_genes)}\")\n",
    "print(\"Ejemplo de genes en single-cell:\")\n",
    "print(sc_genes[:10])\n",
    "\n"
   ]
  },
  {
   "cell_type": "code",
   "execution_count": 6,
   "id": "2b6f91bd-a312-4468-831e-a88cfd5b1998",
   "metadata": {},
   "outputs": [
    {
     "name": "stdout",
     "output_type": "stream",
     "text": [
      "Se cargaron 3192 genes humanos.\n",
      "✅ Mapeo completado. Se encontraron 3232 genes con homólogo en ratón.\n"
     ]
    }
   ],
   "source": [
    "from pybiomart import Server\n",
    "import pandas as pd\n",
    "\n",
    "# Paso 1: conectarse al servidor Ensembl\n",
    "server = Server(host='http://www.ensembl.org')\n",
    "\n",
    "# Paso 2: usar el dataset humano\n",
    "dataset = server.marts['ENSEMBL_MART_ENSEMBL'].datasets['hsapiens_gene_ensembl']\n",
    "\n",
    "# Paso 3: cargar tus genes humanos desde archivo\n",
    "with open( \"/home/franciscojavier/Escritorio/TFG/scDEAL/save/adata/selected_genes_ALL_expression.txt\") as f:\n",
    "    bulk_genes = [line.strip() for line in f]\n",
    "\n",
    "print(f\"Se cargaron {len(bulk_genes)} genes humanos.\")\n",
    "\n",
    "# Paso 4: hacer la consulta y filtrar solo los genes que tenés\n",
    "results = dataset.query(attributes=[\n",
    "    'external_gene_name',                        # Nombre del gen humano\n",
    "    'ensembl_gene_id',                           # ID humano\n",
    "    'mmusculus_homolog_ensembl_gene',            # ID de ratón\n",
    "    'mmusculus_homolog_associated_gene_name'     # nombre del gen de ratón\n",
    "])\n",
    "\n",
    "# Paso 5: filtrar por tus genes\n",
    "mapped = results[results['Gene name'].isin(bulk_genes)]\n",
    "\n",
    "# Paso 6: eliminar filas sin homólogo\n",
    "mapped = mapped.dropna(subset=['Mouse gene stable ID'])\n",
    "\n",
    "# Paso 7: guardar el archivo con resultados\n",
    "# Guardar el archivo en el mismo directorio que el notebook\n",
    "mapped[['Mouse gene stable ID']].drop_duplicates().to_csv(\"genes_mouse_from_bulk.txt\", index=False, header=False)\n",
    "\n",
    "\n",
    "print(f\"✅ Mapeo completado. Se encontraron {mapped.shape[0]} genes con homólogo en ratón.\")\n"
   ]
  },
  {
   "cell_type": "code",
   "execution_count": 14,
   "id": "ee6271ef-55a6-40a2-b236-86411a523fb8",
   "metadata": {},
   "outputs": [
    {
     "name": "stdout",
     "output_type": "stream",
     "text": [
      "Genes humanos únicos en entrada: 3192\n",
      "Filas únicas en mapeo ratón: 3189\n"
     ]
    }
   ],
   "source": [
    "print(\"Genes humanos únicos en entrada:\", len(set(bulk_genes)))\n",
    "print(\"Filas únicas en mapeo ratón:\", mapped[['Mouse gene stable ID']].drop_duplicates().shape[0])\n"
   ]
  },
  {
   "cell_type": "code",
   "execution_count": 16,
   "id": "1c047ae4-43ed-4a71-a1b3-a056a91d2499",
   "metadata": {},
   "outputs": [
    {
     "name": "stdout",
     "output_type": "stream",
     "text": [
      "Genes mapeados a conservar: 3189\n",
      "Matriz filtrada: (2254, 1504)\n",
      "✅ Archivo filtrado guardado como GSE110894_filtrado.csv\n"
     ]
    }
   ],
   "source": [
    "import pandas as pd\n",
    "\n",
    "# Ruta al archivo de expresión single-cell\n",
    "sc_path = \"/home/franciscojavier/Escritorio/TFG/scDEAL/data/GSE110894/GSE110894.csv\"\n",
    "\n",
    "# Ruta al archivo de genes ENSMUSG\n",
    "mouse_genes_path = \"/home/franciscojavier/Escritorio/TFG/scDEAL/casestudy/genes_mouse_from_bulk.txt\"\n",
    "\n",
    "# Leer el archivo de expresión (genes en las filas)\n",
    "sc_df = pd.read_csv(sc_path, index_col=0)\n",
    "\n",
    "# Leer los genes seleccionados (ya mapeados desde bulk)\n",
    "with open(mouse_genes_path) as f:\n",
    "    genes_ratón = [line.strip() for line in f]\n",
    "\n",
    "print(f\"Genes mapeados a conservar: {len(genes_ratón)}\")\n",
    "\n",
    "# Filtrar el DataFrame por los genes\n",
    "sc_df_filtrado = sc_df.loc[sc_df.index.intersection(genes_ratón)]\n",
    "\n",
    "print(f\"Matriz filtrada: {sc_df_filtrado.shape}\")\n",
    "\n",
    "# Guardar el nuevo archivo filtrado\n",
    "sc_df_filtrado.to_csv(\"/home/franciscojavier/Escritorio/TFG/scDEAL/data/GSE110894/GSE110894_filtrado.csv\")\n",
    "print(\"✅ Archivo filtrado guardado como GSE110894_filtrado.csv\")\n"
   ]
  },
  {
   "cell_type": "code",
   "execution_count": 18,
   "id": "3c347b93-0173-4ecf-9efe-abe5f7aa856d",
   "metadata": {},
   "outputs": [],
   "source": [
    "# Genes humanos seleccionados (en orden original del bulk)\n",
    "with open(\"/home/franciscojavier/Escritorio/TFG/scDEAL/save/adata/selected_genes_GSE110894.txt\") as f:\n",
    "    bulk_genes = [line.strip() for line in f]\n"
   ]
  },
  {
   "cell_type": "code",
   "execution_count": 19,
   "id": "0d20f698-8b1f-4a56-8523-174562b282b5",
   "metadata": {},
   "outputs": [],
   "source": [
    "# Leer el archivo de mapeo humano → ratón (ENSMUSG)\n",
    "mapped_df = pd.read_csv(\"genes_mouse_from_bulk.txt\", header=None)\n",
    "mapped_genes = mapped_df[0].tolist()\n"
   ]
  },
  {
   "cell_type": "code",
   "execution_count": 2,
   "id": "c8e950e4-1528-4f4c-a5a2-977c0efe1c3a",
   "metadata": {},
   "outputs": [
    {
     "name": "stdout",
     "output_type": "stream",
     "text": [
      "Collecting mygene\n",
      "  Downloading mygene-3.2.2-py2.py3-none-any.whl (5.4 kB)\n",
      "Collecting biothings-client>=0.2.6\n",
      "  Downloading biothings_client-0.4.1-py3-none-any.whl (46 kB)\n",
      "\u001b[2K     \u001b[38;2;114;156;31m━━━━━━━━━━━━━━━━━━━━━━━━━━━━━━━━━━━━━━━━\u001b[0m \u001b[32m46.7/46.7 kB\u001b[0m \u001b[31m1.7 MB/s\u001b[0m eta \u001b[36m0:00:00\u001b[0m\n",
      "\u001b[?25hCollecting httpx>=0.22.0\n",
      "  Downloading httpx-0.24.1-py3-none-any.whl (75 kB)\n",
      "\u001b[2K     \u001b[38;2;114;156;31m━━━━━━━━━━━━━━━━━━━━━━━━━━━━━━━━━━━━━━━━\u001b[0m \u001b[32m75.4/75.4 kB\u001b[0m \u001b[31m2.0 MB/s\u001b[0m eta \u001b[36m0:00:00\u001b[0m\n",
      "\u001b[?25hRequirement already satisfied: importlib-metadata in /home/franciscojavier/Escritorio/TFG/scDEAL/scDEALenv/lib/python3.7/site-packages (from biothings-client>=0.2.6->mygene) (6.0.0)\n",
      "Requirement already satisfied: certifi in /home/franciscojavier/Escritorio/TFG/scDEAL/scDEALenv/lib/python3.7/site-packages (from httpx>=0.22.0->biothings-client>=0.2.6->mygene) (2024.8.30)\n",
      "Requirement already satisfied: idna in /home/franciscojavier/Escritorio/TFG/scDEAL/scDEALenv/lib/python3.7/site-packages (from httpx>=0.22.0->biothings-client>=0.2.6->mygene) (3.4)\n",
      "Collecting httpcore<0.18.0,>=0.15.0\n",
      "  Downloading httpcore-0.17.3-py3-none-any.whl (74 kB)\n",
      "\u001b[2K     \u001b[38;2;114;156;31m━━━━━━━━━━━━━━━━━━━━━━━━━━━━━━━━━━━━━━━━\u001b[0m \u001b[32m74.5/74.5 kB\u001b[0m \u001b[31m8.3 MB/s\u001b[0m eta \u001b[36m0:00:00\u001b[0m\n",
      "\u001b[?25hRequirement already satisfied: sniffio in /home/franciscojavier/Escritorio/TFG/scDEAL/scDEALenv/lib/python3.7/site-packages (from httpx>=0.22.0->biothings-client>=0.2.6->mygene) (1.3.1)\n",
      "Requirement already satisfied: zipp>=0.5 in /home/franciscojavier/Escritorio/TFG/scDEAL/scDEALenv/lib/python3.7/site-packages (from importlib-metadata->biothings-client>=0.2.6->mygene) (3.15.0)\n",
      "Requirement already satisfied: typing-extensions>=3.6.4 in /home/franciscojavier/Escritorio/TFG/scDEAL/scDEALenv/lib/python3.7/site-packages (from importlib-metadata->biothings-client>=0.2.6->mygene) (4.7.1)\n",
      "Requirement already satisfied: anyio<5.0,>=3.0 in /home/franciscojavier/Escritorio/TFG/scDEAL/scDEALenv/lib/python3.7/site-packages (from httpcore<0.18.0,>=0.15.0->httpx>=0.22.0->biothings-client>=0.2.6->mygene) (3.7.1)\n",
      "Collecting h11<0.15,>=0.13\n",
      "  Downloading h11-0.14.0-py3-none-any.whl (58 kB)\n",
      "\u001b[2K     \u001b[38;2;114;156;31m━━━━━━━━━━━━━━━━━━━━━━━━━━━━━━━━━━━━━━━━\u001b[0m \u001b[32m58.3/58.3 kB\u001b[0m \u001b[31m1.6 MB/s\u001b[0m eta \u001b[36m0:00:00\u001b[0m\n",
      "\u001b[?25hRequirement already satisfied: exceptiongroup in /home/franciscojavier/Escritorio/TFG/scDEAL/scDEALenv/lib/python3.7/site-packages (from anyio<5.0,>=3.0->httpcore<0.18.0,>=0.15.0->httpx>=0.22.0->biothings-client>=0.2.6->mygene) (1.2.2)\n",
      "Installing collected packages: h11, httpcore, httpx, biothings-client, mygene\n",
      "Successfully installed biothings-client-0.4.1 h11-0.14.0 httpcore-0.17.3 httpx-0.24.1 mygene-3.2.2\n"
     ]
    }
   ],
   "source": [
    "import sys\n",
    "!{sys.executable} -m pip install mygene\n"
   ]
  },
  {
   "cell_type": "code",
   "execution_count": 29,
   "id": "21b3d401-f7a8-49f6-a51b-801ebd8f155b",
   "metadata": {},
   "outputs": [
    {
     "name": "stdout",
     "output_type": "stream",
     "text": [
      "Requirement already satisfied: mygene in /home/franciscojavier/miniconda3/lib/python3.12/site-packages (3.2.2)\n",
      "Requirement already satisfied: biothings-client>=0.2.6 in /home/franciscojavier/miniconda3/lib/python3.12/site-packages (from mygene) (0.4.1)\n",
      "Requirement already satisfied: httpx>=0.22.0 in /home/franciscojavier/miniconda3/lib/python3.12/site-packages (from biothings-client>=0.2.6->mygene) (0.28.1)\n",
      "Requirement already satisfied: anyio in /home/franciscojavier/miniconda3/lib/python3.12/site-packages (from httpx>=0.22.0->biothings-client>=0.2.6->mygene) (4.9.0)\n",
      "Requirement already satisfied: certifi in /home/franciscojavier/miniconda3/lib/python3.12/site-packages (from httpx>=0.22.0->biothings-client>=0.2.6->mygene) (2025.1.31)\n",
      "Requirement already satisfied: httpcore==1.* in /home/franciscojavier/miniconda3/lib/python3.12/site-packages (from httpx>=0.22.0->biothings-client>=0.2.6->mygene) (1.0.7)\n",
      "Requirement already satisfied: idna in /home/franciscojavier/miniconda3/lib/python3.12/site-packages (from httpx>=0.22.0->biothings-client>=0.2.6->mygene) (3.7)\n",
      "Requirement already satisfied: h11<0.15,>=0.13 in /home/franciscojavier/miniconda3/lib/python3.12/site-packages (from httpcore==1.*->httpx>=0.22.0->biothings-client>=0.2.6->mygene) (0.14.0)\n",
      "Requirement already satisfied: sniffio>=1.1 in /home/franciscojavier/miniconda3/lib/python3.12/site-packages (from anyio->httpx>=0.22.0->biothings-client>=0.2.6->mygene) (1.3.1)\n",
      "Requirement already satisfied: typing_extensions>=4.5 in /home/franciscojavier/miniconda3/lib/python3.12/site-packages (from anyio->httpx>=0.22.0->biothings-client>=0.2.6->mygene) (4.12.2)\n"
     ]
    }
   ],
   "source": [
    "!pip install mygene\n"
   ]
  },
  {
   "cell_type": "code",
   "execution_count": 3,
   "id": "b33b1121-1390-4e9e-9460-b16db9663fbd",
   "metadata": {},
   "outputs": [
    {
     "name": "stderr",
     "output_type": "stream",
     "text": [
      "Input sequence provided is already in string format. No operation performed\n",
      "Input sequence provided is already in string format. No operation performed\n",
      "1 input query terms found dup hits:\t[('ATP6AP1L', 2)]\n",
      "26 input query terms found no hit:\t['DDX58', 'C9ORF24', 'C5ORF38', 'CLECL1', 'FAM189B', 'C10ORF99', 'TMEM211', 'SMIM6', 'KIAA2026', 'C1\n"
     ]
    },
    {
     "name": "stdout",
     "output_type": "stream",
     "text": [
      "✅ Archivo guardado como human_to_mouse_orthologs.csv\n"
     ]
    },
    {
     "data": {
      "text/html": [
       "<div>\n",
       "<style scoped>\n",
       "    .dataframe tbody tr th:only-of-type {\n",
       "        vertical-align: middle;\n",
       "    }\n",
       "\n",
       "    .dataframe tbody tr th {\n",
       "        vertical-align: top;\n",
       "    }\n",
       "\n",
       "    .dataframe thead th {\n",
       "        text-align: right;\n",
       "    }\n",
       "</style>\n",
       "<table border=\"1\" class=\"dataframe\">\n",
       "  <thead>\n",
       "    <tr style=\"text-align: right;\">\n",
       "      <th></th>\n",
       "      <th>Human_Gene</th>\n",
       "      <th>Mouse_Gene</th>\n",
       "    </tr>\n",
       "  </thead>\n",
       "  <tbody>\n",
       "    <tr>\n",
       "      <th>0</th>\n",
       "      <td>MFSD6</td>\n",
       "      <td>98682</td>\n",
       "    </tr>\n",
       "    <tr>\n",
       "      <th>1</th>\n",
       "      <td>GNA11</td>\n",
       "      <td>14672</td>\n",
       "    </tr>\n",
       "    <tr>\n",
       "      <th>2</th>\n",
       "      <td>DUSP11</td>\n",
       "      <td>72102</td>\n",
       "    </tr>\n",
       "    <tr>\n",
       "      <th>3</th>\n",
       "      <td>TCEAL5</td>\n",
       "      <td>331532</td>\n",
       "    </tr>\n",
       "    <tr>\n",
       "      <th>4</th>\n",
       "      <td>IFNGR1</td>\n",
       "      <td>15979</td>\n",
       "    </tr>\n",
       "  </tbody>\n",
       "</table>\n",
       "</div>"
      ],
      "text/plain": [
       "  Human_Gene  Mouse_Gene\n",
       "0      MFSD6       98682\n",
       "1      GNA11       14672\n",
       "2     DUSP11       72102\n",
       "3     TCEAL5      331532\n",
       "4     IFNGR1       15979"
      ]
     },
     "execution_count": 3,
     "metadata": {},
     "output_type": "execute_result"
    }
   ],
   "source": [
    "import pandas as pd\n",
    "import mygene\n",
    "\n",
    "# 1. Leer los genes humanos desde el archivo\n",
    "with open(\"/home/franciscojavier/Escritorio/TFG/scDEAL/save/adata/selected_genes_GSE110894.txt\") as f:\n",
    "    human_genes = [line.strip() for line in f]\n",
    "\n",
    "# 2. Conectar a mygene y hacer la consulta\n",
    "mg = mygene.MyGeneInfo()\n",
    "\n",
    "# 3. Consulta de homólogos en ratón\n",
    "results = mg.querymany(human_genes, scopes=\"symbol\", fields=\"homologene\", species=\"human\")\n",
    "\n",
    "# 4. Extraer nombres de genes de ratón\n",
    "mapped_genes = []\n",
    "for r in results:\n",
    "    try:\n",
    "        mouse_gene = [h[1] for h in r['homologene']['genes'] if h[0] == 10090]  # 10090 = Mus musculus\n",
    "        if mouse_gene:\n",
    "            mapped_genes.append((r['query'], mouse_gene[0]))\n",
    "    except:\n",
    "        continue\n",
    "\n",
    "# 5. Guardar en CSV\n",
    "df = pd.DataFrame(mapped_genes, columns=[\"Human_Gene\", \"Mouse_Gene\"])\n",
    "df.to_csv(\"human_to_mouse_orthologs.csv\", index=False)\n",
    "\n",
    "print(\"✅ Archivo guardado como human_to_mouse_orthologs.csv\")\n",
    "df.head()\n"
   ]
  },
  {
   "cell_type": "code",
   "execution_count": 10,
   "id": "b46b2f8d-ac08-4125-90c9-5bcebe474484",
   "metadata": {},
   "outputs": [
    {
     "name": "stderr",
     "output_type": "stream",
     "text": [
      "Input sequence provided is already in string format. No operation performed\n",
      "Input sequence provided is already in string format. No operation performed\n",
      "1 input query terms found dup hits:\t[('ATP6AP1L', 2)]\n",
      "26 input query terms found no hit:\t['DDX58', 'C9ORF24', 'C5ORF38', 'CLECL1', 'FAM189B', 'C10ORF99', 'TMEM211', 'SMIM6', 'KIAA2026', 'C1\n"
     ]
    },
    {
     "name": "stdout",
     "output_type": "stream",
     "text": [
      "✅ Genes mapeados encontrados: 0\n"
     ]
    }
   ],
   "source": [
    "import pandas as pd\n",
    "import mygene\n",
    "\n",
    "# Leer genes humanos\n",
    "with open(\"/home/franciscojavier/Escritorio/TFG/scDEAL/save/adata/selected_genes_GSE110894.txt\") as f:\n",
    "    human_genes = [line.strip() for line in f]\n",
    "\n",
    "# Consulta con mygene\n",
    "mg = mygene.MyGeneInfo()\n",
    "res = mg.querymany(human_genes, scopes='symbol', fields='homologene,mouse.ensembl.gene', species='human')\n",
    "\n",
    "# Procesar resultados\n",
    "mapped = []\n",
    "for entry in res:\n",
    "    human = entry.get('query', None)\n",
    "    mouse_info = entry.get('mouse', {})\n",
    "\n",
    "    if isinstance(mouse_info, dict):\n",
    "        ensembl_id = mouse_info.get('ensembl', {}).get('gene', None)\n",
    "        if isinstance(ensembl_id, str) and ensembl_id.startswith('ENSMUSG'):\n",
    "            mapped.append((human, ensembl_id))\n",
    "\n",
    "    elif isinstance(mouse_info, list):\n",
    "        for m in mouse_info:\n",
    "            ensembl_id = m.get('ensembl', {}).get('gene', None)\n",
    "            if isinstance(ensembl_id, str) and ensembl_id.startswith('ENSMUSG'):\n",
    "                mapped.append((human, ensembl_id))\n",
    "\n",
    "# Mostrar resultados\n",
    "print(f\"✅ Genes mapeados encontrados: {len(mapped)}\")\n",
    "\n",
    "# Guardar en archivo plano\n",
    "with open(\"genes_human_to_mouse_ENSMUSG.txt\", \"w\") as f:\n",
    "    for _, gene in mapped:\n",
    "        f.write(gene + \"\\n\")\n",
    "\n",
    "# Guardar también en CSV\n",
    "df = pd.DataFrame(mapped, columns=[\"human_gene\", \"mouse_ENSMUSG\"])\n",
    "df.to_csv(\"genes_mapped_human_to_mouse.csv\", index=False)\n"
   ]
  },
  {
   "cell_type": "code",
   "execution_count": null,
   "id": "cc2575d1-0562-498c-a2fa-de5c4dd28e9a",
   "metadata": {},
   "outputs": [],
   "source": []
  }
 ],
 "metadata": {
  "kernelspec": {
   "display_name": "Python (scDEALenv)",
   "language": "python",
   "name": "scdealenv"
  },
  "language_info": {
   "codemirror_mode": {
    "name": "ipython",
    "version": 3
   },
   "file_extension": ".py",
   "mimetype": "text/x-python",
   "name": "python",
   "nbconvert_exporter": "python",
   "pygments_lexer": "ipython3",
   "version": "3.7.12"
  }
 },
 "nbformat": 4,
 "nbformat_minor": 5
}
